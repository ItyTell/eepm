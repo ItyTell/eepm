{
 "cells": [
  {
   "cell_type": "markdown",
   "metadata": {},
   "source": [
    "### Коломієць Микола Ом-4, Варіант 8"
   ]
  },
  {
   "cell_type": "markdown",
   "metadata": {},
   "source": [
    "### Ізольована популяція варіант 2"
   ]
  },
  {
   "cell_type": "code",
   "execution_count": 1,
   "metadata": {},
   "outputs": [],
   "source": [
    "import matplotlib.pyplot as plt\n",
    "import sympy as sp\n",
    "import numpy as np\n",
    "import scipy as scp"
   ]
  },
  {
   "cell_type": "code",
   "execution_count": 2,
   "metadata": {},
   "outputs": [],
   "source": [
    "t = sp.Symbol('t')\n",
    "P = sp.Function('P')(t)"
   ]
  },
  {
   "cell_type": "markdown",
   "metadata": {},
   "source": [
    "### Запишемо диференціальне рівняння з умови задачі"
   ]
  },
  {
   "cell_type": "code",
   "execution_count": 3,
   "metadata": {},
   "outputs": [
    {
     "data": {
      "text/latex": [
       "$\\displaystyle - 0.004 \\left(P{\\left(t \\right)} - 180\\right) P{\\left(t \\right)} + \\frac{d}{d t} P{\\left(t \\right)} = 0$"
      ],
      "text/plain": [
       "Eq(-0.004*(P(t) - 180)*P(t) + Derivative(P(t), t), 0)"
      ]
     },
     "execution_count": 3,
     "metadata": {},
     "output_type": "execute_result"
    }
   ],
   "source": [
    "equation = sp.Eq(P.diff(t) - 0.004 * P* (P - 180), 0)\n",
    "equation"
   ]
  },
  {
   "cell_type": "markdown",
   "metadata": {
    "tags": []
   },
   "source": [
    "### Розв'яжемо диференціальне рівняння з різними початковими умовами"
   ]
  },
  {
   "cell_type": "code",
   "execution_count": 4,
   "metadata": {},
   "outputs": [],
   "source": [
    "res1 = sp.dsolve(equation, P, ics={P.subs({t:0}):250}).rhs\n",
    "res2 = sp.dsolve(equation, P, ics={P.subs({t:0}):120}).rhs\n"
   ]
  },
  {
   "cell_type": "markdown",
   "metadata": {},
   "source": [
    "### Розв'язки"
   ]
  },
  {
   "cell_type": "code",
   "execution_count": 5,
   "metadata": {},
   "outputs": [
    {
     "data": {
      "text/latex": [
       "$\\displaystyle \\frac{642.857142857143}{3.57142857142857 - e^{0.72 t}}$"
      ],
      "text/plain": [
       "642.857142857143/(3.57142857142857 - exp(0.72*t))"
      ]
     },
     "execution_count": 5,
     "metadata": {},
     "output_type": "execute_result"
    }
   ],
   "source": [
    "res1"
   ]
  },
  {
   "cell_type": "code",
   "execution_count": 6,
   "metadata": {},
   "outputs": [
    {
     "data": {
      "text/latex": [
       "$\\displaystyle - \\frac{360.0}{- e^{0.72 t} - 2.0}$"
      ],
      "text/plain": [
       "-360.0/(-exp(0.72*t) - 2.0)"
      ]
     },
     "execution_count": 6,
     "metadata": {},
     "output_type": "execute_result"
    }
   ],
   "source": [
    "res2"
   ]
  },
  {
   "cell_type": "code",
   "execution_count": 7,
   "metadata": {},
   "outputs": [],
   "source": [
    "res1 = sp.lambdify((t), res1)\n",
    "res2 = sp.lambdify((t), res2)"
   ]
  },
  {
   "cell_type": "markdown",
   "metadata": {},
   "source": [
    "### Чисельності популяцій при t = 1"
   ]
  },
  {
   "cell_type": "code",
   "execution_count": 8,
   "metadata": {},
   "outputs": [
    {
     "name": "stdout",
     "output_type": "stream",
     "text": [
      "P1(1) = 423.77001240440063, P2(1) = 88.7916957307155\n"
     ]
    }
   ],
   "source": [
    "print(\"P1(1) = {}, P2(1) = {}\".format(res1(1), res2(1)))"
   ]
  },
  {
   "cell_type": "code",
   "execution_count": 9,
   "metadata": {},
   "outputs": [],
   "source": [
    "T = np.linspace(0, 1.5, 100)\n",
    "y1 = res1(T)\n",
    "y2 = res2(T)"
   ]
  },
  {
   "cell_type": "markdown",
   "metadata": {},
   "source": [
    "### Графіки"
   ]
  },
  {
   "cell_type": "code",
   "execution_count": 10,
   "metadata": {},
   "outputs": [
    {
     "data": {
      "image/png": "[encoded data removed]",
      "text/plain": [
       "<Figure size 640x480 with 1 Axes>"
      ]
     },
     "metadata": {},
     "output_type": "display_data"
    }
   ],
   "source": [
    "fig, ax = plt.subplots()\n",
    "ax.plot(T, y1)[0].set_label(\"P(0) = 250\")\n",
    "ax.plot(T, y2)[0].set_label(\"P(0) = 120\")\n",
    "ax.legend()\n",
    "plt.show()"
   ]
  },
  {
   "cell_type": "markdown",
   "metadata": {},
   "source": [
    "### З графіків видно, що синя популяція експоненційно зростає, а помаранчева лінійно вимирає"
   ]
  },
  {
   "cell_type": "markdown",
   "metadata": {},
   "source": [
    "### Задача Леслі Варіант 8"
   ]
  },
  {
   "cell_type": "code",
   "execution_count": 11,
   "metadata": {},
   "outputs": [
    {
     "data": {
      "text/latex": [
       "$\\displaystyle \\left[\\begin{matrix}0 & 0 & 0.19 & 0.44 & 0.5 & 0.5 & 0.45\\\\0.87 & 0 & 0 & 0 & 0 & 0 & 0\\\\0 & 0.87 & 0 & 0 & 0 & 0 & 0\\\\0 & 0 & 0.87 & 0 & 0 & 0 & 0\\\\0 & 0 & 0 & 0.87 & 0 & 0 & 0\\\\0 & 0 & 0 & 0 & 0.87 & 0 & 0\\\\0 & 0 & 0 & 0 & 0 & 0.87 & 0.8\\end{matrix}\\right]$"
      ],
      "text/plain": [
       "Matrix([\n",
       "[   0,    0, 0.19, 0.44,  0.5,  0.5, 0.45],\n",
       "[0.87,    0,    0,    0,    0,    0,    0],\n",
       "[   0, 0.87,    0,    0,    0,    0,    0],\n",
       "[   0,    0, 0.87,    0,    0,    0,    0],\n",
       "[   0,    0,    0, 0.87,    0,    0,    0],\n",
       "[   0,    0,    0,    0, 0.87,    0,    0],\n",
       "[   0,    0,    0,    0,    0, 0.87,  0.8]])"
      ]
     },
     "execution_count": 11,
     "metadata": {},
     "output_type": "execute_result"
    }
   ],
   "source": [
    "L =sp.Matrix([[0, 0, 0.19, 0.44, 0.5, 0.5, 0.45], [0.87, 0, 0, 0, 0, 0, 0], [0, 0.87, 0, 0, 0, 0, 0], [0, 0, 0.87, 0, 0, 0, 0], [0, 0, 0, 0.87, 0, 0, 0], [0, 0, 0, 0, 0.87, 0, 0], [0, 0, 0, 0, 0, 0.87, 0.8]])\n",
    "L"
   ]
  },
  {
   "cell_type": "code",
   "execution_count": 12,
   "metadata": {},
   "outputs": [
    {
     "data": {
      "text/plain": [
       "[1.10, 0.2 - 0.59*I, -0.19 - 0.35*I, -0.46, 0.2 + 0.59*I, -0.19 + 0.35*I, 0.14]"
      ]
     },
     "execution_count": 12,
     "metadata": {},
     "output_type": "execute_result"
    }
   ],
   "source": [
    "lambdaa = [round(x, 2) for x in  L.eigenvals().keys()]\n",
    "lambdaa"
   ]
  },
  {
   "cell_type": "markdown",
   "metadata": {},
   "source": [
    "### Швидкість росту популяції"
   ]
  },
  {
   "cell_type": "code",
   "execution_count": 13,
   "metadata": {},
   "outputs": [
    {
     "data": {
      "text/latex": [
       "$\\displaystyle 1.1$"
      ],
      "text/plain": [
       "1.10"
      ]
     },
     "execution_count": 13,
     "metadata": {},
     "output_type": "execute_result"
    }
   ],
   "source": [
    "lamda_L = max([sp.re(x) for x in lambdaa])\n",
    "lamda_L"
   ]
  },
  {
   "cell_type": "markdown",
   "metadata": {},
   "source": [
    "### Вектор стійкої вікової популяції"
   ]
  },
  {
   "cell_type": "code",
   "execution_count": 14,
   "metadata": {},
   "outputs": [
    {
     "data": {
      "text/latex": [
       "$\\displaystyle \\left[\\begin{matrix}3.21\\\\2.54\\\\2.01\\\\1.59\\\\1.26\\\\1.0\\\\2.91\\end{matrix}\\right]$"
      ],
      "text/plain": [
       "Matrix([\n",
       "[3.21],\n",
       "[2.54],\n",
       "[2.01],\n",
       "[1.59],\n",
       "[1.26],\n",
       "[ 1.0],\n",
       "[2.91]])"
      ]
     },
     "execution_count": 14,
     "metadata": {},
     "output_type": "execute_result"
    }
   ],
   "source": [
    "eigenvectors = {round(x, 2): [Mi.evalf(10) for Mi in M] for x,y,M in L.eigenvects()}\n",
    "xL = eigenvectors[lamda_L][0]\n",
    "xL = sp.simplify(xL / xL[5])\n",
    "xL = xL.evalf(3)\n",
    "xL = sp.re(xL) # він і так не комплексний але там 10^-12, з цим рядком виглядає красивіше\n",
    "xL"
   ]
  },
  {
   "cell_type": "markdown",
   "metadata": {},
   "source": [
    "### Частка особин, які можна виловити"
   ]
  },
  {
   "cell_type": "code",
   "execution_count": 15,
   "metadata": {},
   "outputs": [
    {
     "data": {
      "text/latex": [
       "$\\displaystyle 9.09$"
      ],
      "text/plain": [
       "9.09"
      ]
     },
     "execution_count": 15,
     "metadata": {},
     "output_type": "execute_result"
    }
   ],
   "source": [
    "(1 - 1 / lamda_L) * 100"
   ]
  },
  {
   "cell_type": "code",
   "execution_count": 16,
   "metadata": {},
   "outputs": [
    {
     "data": {
      "text/latex": [
       "$\\displaystyle \\left[\\begin{matrix}0 & 0 & 0.19 & 0.44 & 0.5 & 0.5 & 0.45\\\\0.9 & 0 & 0 & 0 & 0 & 0 & 0\\\\0 & 0.9 & 0 & 0 & 0 & 0 & 0\\\\0 & 0 & 0.9 & 0 & 0 & 0 & 0\\\\0 & 0 & 0 & 0.9 & 0 & 0 & 0\\\\0 & 0 & 0 & 0 & 0.9 & 0 & 0\\\\0 & 0 & 0 & 0 & 0 & 0.9 & 0.85\\end{matrix}\\right]$"
      ],
      "text/plain": [
       "Matrix([\n",
       "[  0,   0, 0.19, 0.44, 0.5, 0.5, 0.45],\n",
       "[0.9,   0,    0,    0,   0,   0,    0],\n",
       "[  0, 0.9,    0,    0,   0,   0,    0],\n",
       "[  0,   0,  0.9,    0,   0,   0,    0],\n",
       "[  0,   0,    0,  0.9,   0,   0,    0],\n",
       "[  0,   0,    0,    0, 0.9,   0,    0],\n",
       "[  0,   0,    0,    0,   0, 0.9, 0.85]])"
      ]
     },
     "execution_count": 16,
     "metadata": {},
     "output_type": "execute_result"
    }
   ],
   "source": [
    "L =sp.Matrix([[0, 0, 0.19, 0.44, 0.5, 0.5, 0.45], [0.9, 0, 0, 0, 0, 0, 0], [0, 0.9, 0, 0, 0, 0, 0], [0, 0, 0.9, 0, 0, 0, 0], [0, 0, 0, 0.9, 0, 0, 0], [0, 0, 0, 0, 0.9, 0, 0], [0, 0, 0, 0, 0, 0.9, 0.85]])\n",
    "L"
   ]
  },
  {
   "cell_type": "code",
   "execution_count": 17,
   "metadata": {},
   "outputs": [
    {
     "data": {
      "text/plain": [
       "[1.14, 0.2 - 0.62*I, -0.22 - 0.38*I, -0.50, -0.22 + 0.38*I, 0.2 + 0.62*I, 0.26]"
      ]
     },
     "execution_count": 17,
     "metadata": {},
     "output_type": "execute_result"
    }
   ],
   "source": [
    "lambdaa = [round(x, 2) for x in  L.eigenvals().keys()]\n",
    "lambdaa"
   ]
  },
  {
   "cell_type": "markdown",
   "metadata": {},
   "source": [
    "### Швидкість росту популяції"
   ]
  },
  {
   "cell_type": "code",
   "execution_count": 18,
   "metadata": {},
   "outputs": [
    {
     "data": {
      "text/latex": [
       "$\\displaystyle 1.14$"
      ],
      "text/plain": [
       "1.14"
      ]
     },
     "execution_count": 18,
     "metadata": {},
     "output_type": "execute_result"
    }
   ],
   "source": [
    "lamda_L = max([sp.re(x) for x in lambdaa])\n",
    "lamda_L"
   ]
  },
  {
   "cell_type": "markdown",
   "metadata": {},
   "source": [
    "### Швидкість росту трохи збільшилась адже збільшився коефіцієнт виживання"
   ]
  },
  {
   "cell_type": "markdown",
   "metadata": {},
   "source": [
    "### Вектор стійкої вікової популяції"
   ]
  },
  {
   "cell_type": "code",
   "execution_count": 19,
   "metadata": {},
   "outputs": [
    {
     "data": {
      "text/latex": [
       "$\\displaystyle \\left[\\begin{matrix}3.2\\\\2.53\\\\2.01\\\\1.59\\\\1.26\\\\1.0\\\\3.15\\end{matrix}\\right]$"
      ],
      "text/plain": [
       "Matrix([\n",
       "[ 3.2],\n",
       "[2.53],\n",
       "[2.01],\n",
       "[1.59],\n",
       "[1.26],\n",
       "[ 1.0],\n",
       "[3.15]])"
      ]
     },
     "execution_count": 19,
     "metadata": {},
     "output_type": "execute_result"
    }
   ],
   "source": [
    "eigenvectors = {round(x, 2): [Mi.evalf(10) for Mi in M] for x,y,M in L.eigenvects()}\n",
    "xL = eigenvectors[lamda_L][0]\n",
    "xL = sp.simplify(xL / xL[5])\n",
    "xL = xL.evalf(3)\n",
    "xL = sp.re(xL) # він і так не комплексний але там 10^-12, з цим рядком виглядає красивіше\n",
    "xL"
   ]
  },
  {
   "cell_type": "markdown",
   "metadata": {},
   "source": [
    "### Суттєво змінилось лише співвідношення з останньою віковою групою (найстарші) адже суттєво збільшився лише коефіцієн виживання"
   ]
  },
  {
   "cell_type": "markdown",
   "metadata": {},
   "source": [
    "### Частка особин, які можна виловити"
   ]
  },
  {
   "cell_type": "code",
   "execution_count": 20,
   "metadata": {},
   "outputs": [
    {
     "data": {
      "text/latex": [
       "$\\displaystyle 12.3$"
      ],
      "text/plain": [
       "12.3"
      ]
     },
     "execution_count": 20,
     "metadata": {},
     "output_type": "execute_result"
    }
   ],
   "source": [
    "(1 - 1 / lamda_L) * 100"
   ]
  },
  {
   "cell_type": "markdown",
   "metadata": {},
   "source": [
    "### Швидкість росту збільшилась, а отже і частка особин, яку можна виловити, теж"
   ]
  },
  {
   "cell_type": "markdown",
   "metadata": {},
   "source": [
    "### Хижак жертва Варіант 8"
   ]
  },
  {
   "cell_type": "code",
   "execution_count": 21,
   "metadata": {},
   "outputs": [],
   "source": [
    "e1 = 6\n",
    "g1 = 3\n",
    "x, y = sp.symbols(\"x y\", cls=sp.Function)\n",
    "d1 = sp.Eq(sp.diff(x(t), t), x(t) * (e1 - g1 * y(t)))\n",
    "e2 = 2\n",
    "g2 = 4\n",
    "d2 = sp.Eq(sp.diff(y(t), t), y(t) *(-e2 + g2 * x(t)))"
   ]
  },
  {
   "cell_type": "code",
   "execution_count": 22,
   "metadata": {},
   "outputs": [],
   "source": [
    "def d_1(t, Y):\n",
    "    x, y = Y\n",
    "    e1 = 6\n",
    "    g1 = 3\n",
    "    d1 = x * (e1 - g1 * y)\n",
    "    e2 = 2\n",
    "    g2 = 4\n",
    "    d2 = y*(-e2 + g2 * x)\n",
    "    return [d1, d2]\n",
    "\n",
    "\n",
    "def d_2(Y, t):\n",
    "    x, y = Y\n",
    "    e1 = 6\n",
    "    g1 = 3\n",
    "    d1 = x * (e1 - g1 * y)\n",
    "    e2 = 2\n",
    "    g2 = 4\n",
    "    d2 = y*(-e2 + g2 * x)\n",
    "    return [d1, d2]\n"
   ]
  },
  {
   "cell_type": "markdown",
   "metadata": {},
   "source": [
    "### Стаціонарні точки"
   ]
  },
  {
   "cell_type": "code",
   "execution_count": 23,
   "metadata": {},
   "outputs": [
    {
     "data": {
      "text/plain": [
       "[{x(t): 0, y(t): 0}, {x(t): 1/2, y(t): 2}]"
      ]
     },
     "execution_count": 23,
     "metadata": {},
     "output_type": "execute_result"
    }
   ],
   "source": [
    "sp.solve([d1.rhs, d2.rhs])"
   ]
  },
  {
   "cell_type": "markdown",
   "metadata": {},
   "source": [
    "### Розв'язуємо систему чисельними методами"
   ]
  },
  {
   "cell_type": "code",
   "execution_count": 24,
   "metadata": {},
   "outputs": [
    {
     "ename": "NameError",
     "evalue": "name 'd' is not defined",
     "output_type": "error",
     "traceback": [
      "\u001b[1;31m---------------------------------------------------------------------------\u001b[0m",
      "\u001b[1;31mNameError\u001b[0m                                 Traceback (most recent call last)",
      "Cell \u001b[1;32mIn[24], line 1\u001b[0m\n\u001b[1;32m----> 1\u001b[0m res \u001b[38;5;241m=\u001b[39m scp\u001b[38;5;241m.\u001b[39mintegrate\u001b[38;5;241m.\u001b[39msolve_ivp(d, t_span\u001b[38;5;241m=\u001b[39m(\u001b[38;5;241m0\u001b[39m, \u001b[38;5;241m20\u001b[39m), y0\u001b[38;5;241m=\u001b[39m[\u001b[38;5;241m12\u001b[39m,\u001b[38;5;241m4\u001b[39m])\n",
      "\u001b[1;31mNameError\u001b[0m: name 'd' is not defined"
     ]
    }
   ],
   "source": [
    "res = scp.integrate.solve_ivp(d, t_span=(0, 20), y0=[12,4])"
   ]
  },
  {
   "cell_type": "code",
   "execution_count": null,
   "metadata": {},
   "outputs": [],
   "source": [
    "fig, ax = plt.subplots()\n",
    "ax.plot(res.t, res.y[0])[0].set_label(\"Жертва\")\n",
    "ax.plot(res.t, res.y[1])[0].set_label(\"Хижак\")\n",
    "ax.legend()\n",
    "plt.show()"
   ]
  },
  {
   "cell_type": "code",
   "execution_count": null,
   "metadata": {},
   "outputs": [],
   "source": [
    "y1 = np.linspace(0, 5.0, 10)\n",
    "y2 = np.linspace(0, 7.0, 10)\n",
    "\n",
    "Y1, Y2 = np.meshgrid(y1, y2)\n",
    "\n",
    "t = 0\n",
    "\n",
    "u, v = np.zeros(Y1.shape), np.zeros(Y2.shape)\n",
    "\n",
    "NI, NJ = Y1.shape\n",
    "\n",
    "for i in range(NI):\n",
    "    for j in range(NJ):\n",
    "        x = Y1[i, j]\n",
    "        y = Y2[i, j]\n",
    "        yprime = d_2([x, y], t)\n",
    "        u[i,j] = yprime[0]\n",
    "        v[i,j] = yprime[1]\n",
    "     \n",
    "\n",
    "Q = plt.quiver(Y1, Y2, u, v, color='r')\n",
    "\n",
    "\n",
    "for y0 in [(0, 0), (1/2, 2), (0.6, 2.1), (0.5, 1), (2, 2), (3, 3)]:\n",
    "    tspan = np.linspace(0, 5.0, 300)\n",
    "    ys = scp.integrate.odeint(d_2, y0, tspan)\n",
    "    plt.plot(ys[:,0], ys[:,1], 'b-') # path\n",
    "    plt.plot([ys[0,0]], [ys[0,1]], 'o') # start\n",
    "    plt.plot([ys[-1,0]], [ys[-1,1]], 's') # end\n",
    "    \n",
    "\n",
    "\n",
    "\n",
    "plt.xlabel('$y_1$')\n",
    "plt.ylabel('$y_2$')\n",
    "plt.xlim([0, 5])\n",
    "plt.ylim([0, 7])\n",
    "plt.show()"
   ]
  },
  {
   "cell_type": "code",
   "execution_count": null,
   "metadata": {},
   "outputs": [],
   "source": []
  }
 ],
 "metadata": {
  "kernelspec": {
   "display_name": "Python 3 (ipykernel)",
   "language": "python",
   "name": "python3"
  },
  "language_info": {
   "codemirror_mode": {
    "name": "ipython",
    "version": 3
   },
   "file_extension": ".py",
   "mimetype": "text/x-python",
   "name": "python",
   "nbconvert_exporter": "python",
   "pygments_lexer": "ipython3",
   "version": "3.11.4"
  }
 },
 "nbformat": 4,
 "nbformat_minor": 2
}
