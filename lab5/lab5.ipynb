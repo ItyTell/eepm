{
 "cells": [
  {
   "cell_type": "markdown",
   "metadata": {},
   "source": [
    "### Коломієць Микола Ом-4, Варіант 8"
   ]
  },
  {
   "cell_type": "markdown",
   "metadata": {},
   "source": [
    "### Варіант 8\n",
    "\n",
    "8.1. Економіка країни розбита на дві виробничі галузі (промисловість та сільське господарство). За минулий рік\n",
    "повний випуск промислових виробництв у вартісній формі був розподілений таким чином:\n",
    "- 650 млн. грн. для виробничих потреб промисловості;\n",
    "- 370 млн. грн. для виробничих потреб сільського господарства;\n",
    "- 750 млн. грн. для споживання населення (згідно попиту на цю продукцію).\n",
    "\n",
    "В той же час повний випуск сільськогосподарської продукції (у вартісній формі) був розподілений таким чином:\n",
    "- 300 млн. грн. для виробничих потреб промисловості;\n",
    "- 350 млн. грн. для виробничих потреб сільського господарства;\n",
    "- 550 млн. грн. для споживання населення (згідно попиту на цю продукцію).\n",
    "\n",
    "Розрахувати ціни на промислову та сільськогосподарську продукцію, якщо відомо, що додана вартість в цінах\n",
    "складає: \n",
    "\n",
    "- 0.5 - для промисловості; \n",
    "- 0.7 - для сільського господарства."
   ]
  },
  {
   "cell_type": "code",
   "execution_count": 2,
   "metadata": {},
   "outputs": [],
   "source": [
    "import matplotlib.pyplot as plt\n",
    "import sympy as sp\n",
    "import numpy as np\n",
    "import scipy as scp"
   ]
  },
  {
   "cell_type": "code",
   "execution_count": 8,
   "metadata": {},
   "outputs": [],
   "source": [
    "x11, x12, x21, x22, y1, y2 = sp.symbols('x_{11} x_{12} x_{21} x_{22} y_1 y_2')\n",
    "x1 = x11 + x12 + y1\n",
    "x2 = x21 + x22 + y2"
   ]
  },
  {
   "cell_type": "code",
   "execution_count": 9,
   "metadata": {},
   "outputs": [],
   "source": [
    "params = {\n",
    "    # промисловість\n",
    "    x11: 650,\n",
    "    x12: 370,\n",
    "    y1: 750,\n",
    "    # сільське господарство\n",
    "    x21: 300,\n",
    "    x22: 350,\n",
    "    y2: 550\n",
    "}"
   ]
  },
  {
   "cell_type": "code",
   "execution_count": 10,
   "metadata": {},
   "outputs": [
    {
     "data": {
      "text/latex": [
       "$\\displaystyle \\left[\\begin{matrix}\\frac{x_{11}}{x_{11} + x_{12} + y_{1}} & \\frac{x_{12}}{x_{21} + x_{22} + y_{2}}\\\\\\frac{x_{21}}{x_{11} + x_{12} + y_{1}} & \\frac{x_{22}}{x_{21} + x_{22} + y_{2}}\\end{matrix}\\right]$"
      ],
      "text/plain": [
       "Matrix([\n",
       "[x_{11}/(x_{11} + x_{12} + y_1), x_{12}/(x_{21} + x_{22} + y_2)],\n",
       "[x_{21}/(x_{11} + x_{12} + y_1), x_{22}/(x_{21} + x_{22} + y_2)]])"
      ]
     },
     "execution_count": 10,
     "metadata": {},
     "output_type": "execute_result"
    }
   ],
   "source": [
    "A = sp.Matrix([[x11/x1, x12/x2], [x21/x1, x22/x2]])\n",
    "A"
   ]
  },
  {
   "cell_type": "code",
   "execution_count": 12,
   "metadata": {},
   "outputs": [
    {
     "data": {
      "text/latex": [
       "$\\displaystyle \\left[\\begin{matrix}\\frac{65}{177} & \\frac{37}{120}\\\\\\frac{10}{59} & \\frac{7}{24}\\end{matrix}\\right]$"
      ],
      "text/plain": [
       "Matrix([\n",
       "[65/177, 37/120],\n",
       "[ 10/59,   7/24]])"
      ]
     },
     "execution_count": 12,
     "metadata": {},
     "output_type": "execute_result"
    }
   ],
   "source": [
    "A = A.subs(params)\n",
    "A"
   ]
  },
  {
   "cell_type": "code",
   "execution_count": 17,
   "metadata": {},
   "outputs": [
    {
     "data": {
      "text/latex": [
       "$\\displaystyle \\left[\\begin{matrix}0.5 & 0.7\\end{matrix}\\right]$"
      ],
      "text/plain": [
       "Matrix([[0.5, 0.7]])"
      ]
     },
     "execution_count": 17,
     "metadata": {},
     "output_type": "execute_result"
    }
   ],
   "source": [
    "s = sp.Matrix([0.5, 0.7]).T\n",
    "s"
   ]
  },
  {
   "cell_type": "code",
   "execution_count": 19,
   "metadata": {},
   "outputs": [
    {
     "data": {
      "text/latex": [
       "$\\displaystyle \\left[\\begin{matrix}1.19411414982164 & 1.50802615933413\\end{matrix}\\right]$"
      ],
      "text/plain": [
       "Matrix([[1.19411414982164, 1.50802615933413]])"
      ]
     },
     "execution_count": 19,
     "metadata": {},
     "output_type": "execute_result"
    }
   ],
   "source": [
    "E = sp.Matrix([[1, 0], [0, 1]])\n",
    "B = sp.Inverse(E - A)\n",
    "p = s * B\n",
    "p"
   ]
  },
  {
   "cell_type": "markdown",
   "metadata": {},
   "source": [
    "Висновок ціна на промислову продукцію складає p1 = 1.19 мільйонів гривень, на сільськогосподарську продукцію p2 = 1.51 мільйонів гривень"
   ]
  },
  {
   "cell_type": "markdown",
   "metadata": {},
   "source": [
    "8.2. Знайти власні числа матриці А, коефіцієнти характеристичного поліному, її число Фробеніуса, правий та лівий\n",
    "\n",
    "вектори Фробеніуса. Зробити висновок про продуктивність даної матриці: А $\\begin{pmatrix}0.45 & 0.3 & 0.2 \\\\ 0.2 & 0.25 & 0.4 \\\\ 0.3 & 0.35 & 0.3\\end{pmatrix}$. \n",
    "\n",
    "Для цієї матриці знайти матрицю повних витрат В. Дослідити на збіжність суму ряду $Е + А + А^2 +... + А^N$ до матриці повних витрат\n",
    "(критерій збіжності - величини елементів відповідних матриць відрізняються менше, ніж на 0.01).\n",
    "\n",
    "Знайти вектор кінцевого випуску, якщо вектор кінцевого споживання продукції $у = \\begin{pmatrix} 100 \\\\ 70 \\\\ 110\\end{pmatrix}$."
   ]
  },
  {
   "cell_type": "code",
   "execution_count": 31,
   "metadata": {},
   "outputs": [
    {
     "name": "stdout",
     "output_type": "stream",
     "text": [
      "0.917307682853362\n",
      "0.164080842588588\n",
      "-0.0813885254419498\n"
     ]
    }
   ],
   "source": [
    "A = sp.Matrix([[0.45, 0.3, 0.2], [0.2, 0.25, 0.4], [0.3, 0.35, 0.3]])\n",
    "# Знайдемо власні числа\n",
    "eigenvalues = A.eigenvals()\n",
    "for eigenvalue in eigenvalues.keys():\n",
    "    print(eigenvalue)"
   ]
  },
  {
   "cell_type": "code",
   "execution_count": 32,
   "metadata": {},
   "outputs": [
    {
     "data": {
      "text/plain": [
       "[1.00000000000000, -1.00000000000000, 0.0625000000000000, 0.0122500000000000]"
      ]
     },
     "execution_count": 32,
     "metadata": {},
     "output_type": "execute_result"
    }
   ],
   "source": [
    "# знайдемо коефіцієнти характеристичного поліному матриці A\n",
    "A.charpoly().coeffs()"
   ]
  },
  {
   "cell_type": "code",
   "execution_count": 46,
   "metadata": {},
   "outputs": [
    {
     "name": "stdout",
     "output_type": "stream",
     "text": [
      "0.917307682853362\n"
     ]
    },
    {
     "data": {
      "text/latex": [
       "$\\displaystyle \\left[\\begin{matrix}0.598814750700913\\\\0.536116387953526\\\\0.594979086111997\\end{matrix}\\right]$"
      ],
      "text/plain": [
       "Matrix([\n",
       "[0.598814750700913],\n",
       "[0.536116387953526],\n",
       "[0.594979086111997]])"
      ]
     },
     "execution_count": 46,
     "metadata": {},
     "output_type": "execute_result"
    }
   ],
   "source": [
    "# знайдемо число Форбеніуса\n",
    "forbenius = max(eigenvalues.keys())\n",
    "print(forbenius)\n",
    "# знайдемо власний вектор Форбеніуса\n",
    "eigenvector = A.eigenvects()[0][2][0]\n",
    "eigenvector"
   ]
  },
  {
   "cell_type": "code",
   "execution_count": 48,
   "metadata": {},
   "outputs": [
    {
     "data": {
      "text/latex": [
       "$\\displaystyle \\text{True}$"
      ],
      "text/plain": [
       "True"
      ]
     },
     "execution_count": 48,
     "metadata": {},
     "output_type": "execute_result"
    }
   ],
   "source": [
    "forbenius < 1 # матриця пародуктивна"
   ]
  },
  {
   "cell_type": "code",
   "execution_count": 55,
   "metadata": {},
   "outputs": [
    {
     "data": {
      "text/latex": [
       "$\\displaystyle \\left[\\begin{matrix}5.1505016722408 & 3.74581939799331 & 3.61204013377926\\\\3.47826086956522 & 4.34782608695652 & 3.47826086956522\\\\3.94648829431438 & 3.77926421404682 & 4.71571906354515\\end{matrix}\\right]$"
      ],
      "text/plain": [
       "Matrix([\n",
       "[ 5.1505016722408, 3.74581939799331, 3.61204013377926],\n",
       "[3.47826086956522, 4.34782608695652, 3.47826086956522],\n",
       "[3.94648829431438, 3.77926421404682, 4.71571906354515]])"
      ]
     },
     "execution_count": 55,
     "metadata": {},
     "output_type": "execute_result"
    }
   ],
   "source": [
    "E = sp.Matrix([[1, 0, 0], [0, 1, 0], [0, 0, 1]])\n",
    "B = sp.Inverse(E - A) * E\n",
    "B"
   ]
  },
  {
   "cell_type": "code",
   "execution_count": 62,
   "metadata": {},
   "outputs": [
    {
     "name": "stdout",
     "output_type": "stream",
     "text": [
      "69\n"
     ]
    }
   ],
   "source": [
    "A_sum = E\n",
    "k = 0\n",
    "Ak = A\n",
    "while abs((A_sum - B)[2]) > 0.01:\n",
    "    A_sum += Ak\n",
    "    Ak *= A\n",
    "    k+=1\n",
    "print(k)"
   ]
  },
  {
   "cell_type": "code",
   "execution_count": 63,
   "metadata": {},
   "outputs": [
    {
     "data": {
      "text/latex": [
       "$\\displaystyle \\left[\\begin{matrix}1174.58193979933\\\\1034.78260869565\\\\1177.92642140468\\end{matrix}\\right]$"
      ],
      "text/plain": [
       "Matrix([\n",
       "[1174.58193979933],\n",
       "[1034.78260869565],\n",
       "[1177.92642140468]])"
      ]
     },
     "execution_count": 63,
     "metadata": {},
     "output_type": "execute_result"
    }
   ],
   "source": [
    "B * sp.Matrix([100, 70, 110]) # вектор кінцевого випуску продукції"
   ]
  }
 ],
 "metadata": {
  "kernelspec": {
   "display_name": "base",
   "language": "python",
   "name": "python3"
  },
  "language_info": {
   "codemirror_mode": {
    "name": "ipython",
    "version": 3
   },
   "file_extension": ".py",
   "mimetype": "text/x-python",
   "name": "python",
   "nbconvert_exporter": "python",
   "pygments_lexer": "ipython3",
   "version": "3.11.4"
  }
 },
 "nbformat": 4,
 "nbformat_minor": 2
}
